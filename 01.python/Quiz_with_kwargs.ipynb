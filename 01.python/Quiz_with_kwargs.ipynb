{
 "cells": [
  {
   "cell_type": "markdown",
   "metadata": {},
   "source": [
    "계산기 만들기\n",
    "\n",
    "연산자, 정수 두 개 입력하는 함수"
   ]
  },
  {
   "cell_type": "code",
   "execution_count": 17,
   "metadata": {},
   "outputs": [],
   "source": [
    "def cal(parameter, int1, int2) :\n",
    "    result = 0\n",
    "    if parameter == '+' :\n",
    "        result = int1 + int2\n",
    "    elif parameter == '-' :\n",
    "        result = int1 - int2\n",
    "    elif parameter == '*' :\n",
    "        result = int1 * int2\n",
    "    elif parameter == '/' :\n",
    "        result = int1 / int2\n",
    "    elif parameter == '%' :\n",
    "        result = int1 % int2\n",
    "    else :\n",
    "        print('연산자가 올바르지 않습니다.')\n",
    "    return result"
   ]
  },
  {
   "cell_type": "code",
   "execution_count": 18,
   "metadata": {},
   "outputs": [
    {
     "name": "stdout",
     "output_type": "stream",
     "text": [
      "5\n",
      "-1\n",
      "6\n",
      "0.3333333333333333\n",
      "1\n",
      "연산자가 올바르지 않습니다.\n",
      "0\n"
     ]
    }
   ],
   "source": [
    "print(cal('+', 2, 3))\n",
    "print(cal('-', 2, 3))\n",
    "print(cal('*', 2, 3))\n",
    "print(cal('/', 1, 3))\n",
    "print(cal('%', 1, 3))\n",
    "print(cal('!', 1, 3))"
   ]
  },
  {
   "cell_type": "code",
   "execution_count": 15,
   "metadata": {},
   "outputs": [],
   "source": [
    "def name_age_insert(**kwargs) :\n",
    "    num = int(input('사람 수를 입력하세요 : '))\n",
    "    name = []\n",
    "    age = []\n",
    "    idx = 0\n",
    "    while idx < num :\n",
    "        name.append(input('이름을 입력하세요 : '))\n",
    "        age.append(int(input('나이를 입력하세요 : ')))\n",
    "        idx += 1\n",
    "    dictionary = dict(zip(name, age))\n",
    "    return dictionary"
   ]
  },
  {
   "cell_type": "code",
   "execution_count": 16,
   "metadata": {},
   "outputs": [
    {
     "name": "stdout",
     "output_type": "stream",
     "text": [
      "사람 수를 입력하세요 : 2\n",
      "이름을 입력하세요 : 이홍주\n",
      "나이를 입력하세요 : 26\n",
      "이름을 입력하세요 : 바보\n",
      "나이를 입력하세요 : 30\n"
     ]
    },
    {
     "data": {
      "text/plain": [
       "{'이홍주': 26, '바보': 30}"
      ]
     },
     "execution_count": 16,
     "metadata": {},
     "output_type": "execute_result"
    }
   ],
   "source": [
    "name_age_insert()"
   ]
  },
  {
   "cell_type": "code",
   "execution_count": null,
   "metadata": {},
   "outputs": [],
   "source": []
  },
  {
   "cell_type": "code",
   "execution_count": null,
   "metadata": {},
   "outputs": [],
   "source": []
  }
 ],
 "metadata": {
  "kernelspec": {
   "display_name": "Python 3",
   "language": "python",
   "name": "python3"
  },
  "language_info": {
   "codemirror_mode": {
    "name": "ipython",
    "version": 3
   },
   "file_extension": ".py",
   "mimetype": "text/x-python",
   "name": "python",
   "nbconvert_exporter": "python",
   "pygments_lexer": "ipython3",
   "version": "3.8.5"
  }
 },
 "nbformat": 4,
 "nbformat_minor": 4
}
